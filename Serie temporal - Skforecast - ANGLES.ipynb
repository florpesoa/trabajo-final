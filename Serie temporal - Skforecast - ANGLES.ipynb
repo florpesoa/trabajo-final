{
 "cells": [
  {
   "cell_type": "code",
   "execution_count": 1,
   "id": "2eede2c0",
   "metadata": {},
   "outputs": [],
   "source": [
    "import pandas as pd \n",
    "import numpy as np\n",
    "import matplotlib.pyplot as plt\n",
    "import seaborn as sns\n",
    "from sklearn import preprocessing\n",
    "from sklearn.model_selection import train_test_split\n",
    "from scipy import stats\n",
    "from statsmodels.tsa.stattools import adfuller\n",
    "from statsmodels.graphics.tsaplots import plot_acf, plot_pacf\n",
    "from pmdarima.arima import auto_arima\n",
    "\n",
    "# Tratamiento de datos\n",
    "# ==============================================================================\n",
    "import numpy as np\n",
    "import pandas as pd\n",
    "\n",
    "# Gráficos\n",
    "# ==============================================================================\n",
    "import matplotlib.pyplot as plt\n",
    "plt.style.use('fivethirtyeight')\n",
    "plt.rcParams['lines.linewidth'] = 1.5\n",
    "\n",
    "# Modelado y Forecasting\n",
    "# ==============================================================================\n",
    "from sklearn.linear_model import LinearRegression\n",
    "from sklearn.linear_model import Lasso\n",
    "from sklearn.ensemble import RandomForestRegressor\n",
    "from sklearn.metrics import mean_squared_error\n",
    "from sklearn.preprocessing import StandardScaler\n",
    "from sklearn.pipeline import make_pipeline\n",
    "\n",
    "\n",
    "from skforecast.ForecasterAutoreg import ForecasterAutoreg\n",
    "from skforecast.ForecasterAutoregCustom import ForecasterAutoregCustom\n",
    "from skforecast.ForecasterAutoregDirect import ForecasterAutoregDirect\n",
    "from skforecast.model_selection import grid_search_forecaster\n",
    "from skforecast.model_selection import backtesting_forecaster\n",
    "from skforecast.utils import save_forecaster\n",
    "from skforecast.utils import load_forecaster\n",
    "\n",
    "# Configuración warnings\n",
    "# ==============================================================================\n",
    "import warnings\n",
    "# warnings.filterwarnings('ignore')"
   ]
  },
  {
   "cell_type": "code",
   "execution_count": 2,
   "id": "cb9399a0",
   "metadata": {},
   "outputs": [],
   "source": [
    "lugar_nacimiento=pd.read_csv('t674mun_170084ANGLES.csv', sep=';')"
   ]
  },
  {
   "cell_type": "code",
   "execution_count": 3,
   "id": "f4d86f08",
   "metadata": {},
   "outputs": [],
   "source": [
    "lugar_nacimiento=lugar_nacimiento.rename(columns={'Unnamed: 0': 'Año'})"
   ]
  },
  {
   "cell_type": "code",
   "execution_count": 4,
   "id": "0d5fff16",
   "metadata": {},
   "outputs": [
    {
     "data": {
      "text/plain": [
       "Index(['Año', 'Catalunya', 'Mateixa comarca', 'Altra comarca',\n",
       "       'Resta d'Espanya', 'Estranger', 'Total'],\n",
       "      dtype='object')"
      ]
     },
     "execution_count": 4,
     "metadata": {},
     "output_type": "execute_result"
    }
   ],
   "source": [
    "lugar_nacimiento.columns"
   ]
  },
  {
   "cell_type": "code",
   "execution_count": 6,
   "id": "ed7c87e3",
   "metadata": {},
   "outputs": [
    {
     "data": {
      "text/html": [
       "<div>\n",
       "<style scoped>\n",
       "    .dataframe tbody tr th:only-of-type {\n",
       "        vertical-align: middle;\n",
       "    }\n",
       "\n",
       "    .dataframe tbody tr th {\n",
       "        vertical-align: top;\n",
       "    }\n",
       "\n",
       "    .dataframe thead th {\n",
       "        text-align: right;\n",
       "    }\n",
       "</style>\n",
       "<table border=\"1\" class=\"dataframe\">\n",
       "  <thead>\n",
       "    <tr style=\"text-align: right;\">\n",
       "      <th></th>\n",
       "      <th>Año</th>\n",
       "      <th>Catalunya</th>\n",
       "      <th>Mateixa comarca</th>\n",
       "      <th>Altra comarca</th>\n",
       "      <th>Resta d'Espanya</th>\n",
       "      <th>Estranger</th>\n",
       "      <th>Total</th>\n",
       "    </tr>\n",
       "  </thead>\n",
       "  <tbody>\n",
       "    <tr>\n",
       "      <th>22</th>\n",
       "      <td>2000</td>\n",
       "      <td>4119</td>\n",
       "      <td>2827</td>\n",
       "      <td>1292</td>\n",
       "      <td>637</td>\n",
       "      <td>253</td>\n",
       "      <td>5009</td>\n",
       "    </tr>\n",
       "    <tr>\n",
       "      <th>21</th>\n",
       "      <td>2001</td>\n",
       "      <td>4070</td>\n",
       "      <td>2774</td>\n",
       "      <td>1296</td>\n",
       "      <td>614</td>\n",
       "      <td>289</td>\n",
       "      <td>4973</td>\n",
       "    </tr>\n",
       "    <tr>\n",
       "      <th>20</th>\n",
       "      <td>2002</td>\n",
       "      <td>4044</td>\n",
       "      <td>2748</td>\n",
       "      <td>1296</td>\n",
       "      <td>600</td>\n",
       "      <td>376</td>\n",
       "      <td>5020</td>\n",
       "    </tr>\n",
       "    <tr>\n",
       "      <th>19</th>\n",
       "      <td>2003</td>\n",
       "      <td>4003</td>\n",
       "      <td>2709</td>\n",
       "      <td>1294</td>\n",
       "      <td>593</td>\n",
       "      <td>453</td>\n",
       "      <td>5049</td>\n",
       "    </tr>\n",
       "    <tr>\n",
       "      <th>18</th>\n",
       "      <td>2004</td>\n",
       "      <td>4003</td>\n",
       "      <td>2687</td>\n",
       "      <td>1316</td>\n",
       "      <td>598</td>\n",
       "      <td>495</td>\n",
       "      <td>5096</td>\n",
       "    </tr>\n",
       "    <tr>\n",
       "      <th>17</th>\n",
       "      <td>2005</td>\n",
       "      <td>4006</td>\n",
       "      <td>2675</td>\n",
       "      <td>1331</td>\n",
       "      <td>568</td>\n",
       "      <td>617</td>\n",
       "      <td>5191</td>\n",
       "    </tr>\n",
       "    <tr>\n",
       "      <th>16</th>\n",
       "      <td>2006</td>\n",
       "      <td>4013</td>\n",
       "      <td>2667</td>\n",
       "      <td>1346</td>\n",
       "      <td>554</td>\n",
       "      <td>644</td>\n",
       "      <td>5211</td>\n",
       "    </tr>\n",
       "    <tr>\n",
       "      <th>15</th>\n",
       "      <td>2007</td>\n",
       "      <td>3999</td>\n",
       "      <td>2655</td>\n",
       "      <td>1344</td>\n",
       "      <td>536</td>\n",
       "      <td>746</td>\n",
       "      <td>5281</td>\n",
       "    </tr>\n",
       "    <tr>\n",
       "      <th>14</th>\n",
       "      <td>2008</td>\n",
       "      <td>3981</td>\n",
       "      <td>2654</td>\n",
       "      <td>1327</td>\n",
       "      <td>534</td>\n",
       "      <td>931</td>\n",
       "      <td>5446</td>\n",
       "    </tr>\n",
       "    <tr>\n",
       "      <th>13</th>\n",
       "      <td>2009</td>\n",
       "      <td>4018</td>\n",
       "      <td>2672</td>\n",
       "      <td>1346</td>\n",
       "      <td>525</td>\n",
       "      <td>1026</td>\n",
       "      <td>5569</td>\n",
       "    </tr>\n",
       "    <tr>\n",
       "      <th>12</th>\n",
       "      <td>2010</td>\n",
       "      <td>4009</td>\n",
       "      <td>2680</td>\n",
       "      <td>1329</td>\n",
       "      <td>516</td>\n",
       "      <td>1035</td>\n",
       "      <td>5560</td>\n",
       "    </tr>\n",
       "    <tr>\n",
       "      <th>11</th>\n",
       "      <td>2011</td>\n",
       "      <td>4062</td>\n",
       "      <td>2712</td>\n",
       "      <td>1350</td>\n",
       "      <td>508</td>\n",
       "      <td>1067</td>\n",
       "      <td>5637</td>\n",
       "    </tr>\n",
       "    <tr>\n",
       "      <th>10</th>\n",
       "      <td>2012</td>\n",
       "      <td>4095</td>\n",
       "      <td>2727</td>\n",
       "      <td>1368</td>\n",
       "      <td>491</td>\n",
       "      <td>1133</td>\n",
       "      <td>5719</td>\n",
       "    </tr>\n",
       "    <tr>\n",
       "      <th>9</th>\n",
       "      <td>2013</td>\n",
       "      <td>4077</td>\n",
       "      <td>2713</td>\n",
       "      <td>1364</td>\n",
       "      <td>476</td>\n",
       "      <td>1109</td>\n",
       "      <td>5662</td>\n",
       "    </tr>\n",
       "    <tr>\n",
       "      <th>8</th>\n",
       "      <td>2014</td>\n",
       "      <td>4058</td>\n",
       "      <td>2691</td>\n",
       "      <td>1367</td>\n",
       "      <td>455</td>\n",
       "      <td>1093</td>\n",
       "      <td>5606</td>\n",
       "    </tr>\n",
       "    <tr>\n",
       "      <th>7</th>\n",
       "      <td>2015</td>\n",
       "      <td>4023</td>\n",
       "      <td>2670</td>\n",
       "      <td>1353</td>\n",
       "      <td>448</td>\n",
       "      <td>1069</td>\n",
       "      <td>5540</td>\n",
       "    </tr>\n",
       "    <tr>\n",
       "      <th>6</th>\n",
       "      <td>2016</td>\n",
       "      <td>4014</td>\n",
       "      <td>2656</td>\n",
       "      <td>1358</td>\n",
       "      <td>436</td>\n",
       "      <td>1023</td>\n",
       "      <td>5473</td>\n",
       "    </tr>\n",
       "    <tr>\n",
       "      <th>5</th>\n",
       "      <td>2017</td>\n",
       "      <td>3998</td>\n",
       "      <td>2661</td>\n",
       "      <td>1337</td>\n",
       "      <td>421</td>\n",
       "      <td>1060</td>\n",
       "      <td>5479</td>\n",
       "    </tr>\n",
       "    <tr>\n",
       "      <th>4</th>\n",
       "      <td>2018</td>\n",
       "      <td>3977</td>\n",
       "      <td>2630</td>\n",
       "      <td>1347</td>\n",
       "      <td>401</td>\n",
       "      <td>1141</td>\n",
       "      <td>5519</td>\n",
       "    </tr>\n",
       "    <tr>\n",
       "      <th>3</th>\n",
       "      <td>2019</td>\n",
       "      <td>3988</td>\n",
       "      <td>2618</td>\n",
       "      <td>1370</td>\n",
       "      <td>395</td>\n",
       "      <td>1216</td>\n",
       "      <td>5599</td>\n",
       "    </tr>\n",
       "    <tr>\n",
       "      <th>2</th>\n",
       "      <td>2020</td>\n",
       "      <td>3956</td>\n",
       "      <td>2602</td>\n",
       "      <td>1354</td>\n",
       "      <td>388</td>\n",
       "      <td>1310</td>\n",
       "      <td>5654</td>\n",
       "    </tr>\n",
       "    <tr>\n",
       "      <th>1</th>\n",
       "      <td>2021</td>\n",
       "      <td>3938</td>\n",
       "      <td>2588</td>\n",
       "      <td>1350</td>\n",
       "      <td>397</td>\n",
       "      <td>1374</td>\n",
       "      <td>5709</td>\n",
       "    </tr>\n",
       "    <tr>\n",
       "      <th>0</th>\n",
       "      <td>2022</td>\n",
       "      <td>3938</td>\n",
       "      <td>2563</td>\n",
       "      <td>1375</td>\n",
       "      <td>377</td>\n",
       "      <td>1367</td>\n",
       "      <td>5682</td>\n",
       "    </tr>\n",
       "  </tbody>\n",
       "</table>\n",
       "</div>"
      ],
      "text/plain": [
       "     Año  Catalunya  Mateixa comarca  Altra comarca  Resta d'Espanya  \\\n",
       "22  2000       4119             2827           1292              637   \n",
       "21  2001       4070             2774           1296              614   \n",
       "20  2002       4044             2748           1296              600   \n",
       "19  2003       4003             2709           1294              593   \n",
       "18  2004       4003             2687           1316              598   \n",
       "17  2005       4006             2675           1331              568   \n",
       "16  2006       4013             2667           1346              554   \n",
       "15  2007       3999             2655           1344              536   \n",
       "14  2008       3981             2654           1327              534   \n",
       "13  2009       4018             2672           1346              525   \n",
       "12  2010       4009             2680           1329              516   \n",
       "11  2011       4062             2712           1350              508   \n",
       "10  2012       4095             2727           1368              491   \n",
       "9   2013       4077             2713           1364              476   \n",
       "8   2014       4058             2691           1367              455   \n",
       "7   2015       4023             2670           1353              448   \n",
       "6   2016       4014             2656           1358              436   \n",
       "5   2017       3998             2661           1337              421   \n",
       "4   2018       3977             2630           1347              401   \n",
       "3   2019       3988             2618           1370              395   \n",
       "2   2020       3956             2602           1354              388   \n",
       "1   2021       3938             2588           1350              397   \n",
       "0   2022       3938             2563           1375              377   \n",
       "\n",
       "    Estranger  Total  \n",
       "22        253   5009  \n",
       "21        289   4973  \n",
       "20        376   5020  \n",
       "19        453   5049  \n",
       "18        495   5096  \n",
       "17        617   5191  \n",
       "16        644   5211  \n",
       "15        746   5281  \n",
       "14        931   5446  \n",
       "13       1026   5569  \n",
       "12       1035   5560  \n",
       "11       1067   5637  \n",
       "10       1133   5719  \n",
       "9        1109   5662  \n",
       "8        1093   5606  \n",
       "7        1069   5540  \n",
       "6        1023   5473  \n",
       "5        1060   5479  \n",
       "4        1141   5519  \n",
       "3        1216   5599  \n",
       "2        1310   5654  \n",
       "1        1374   5709  \n",
       "0        1367   5682  "
      ]
     },
     "execution_count": 6,
     "metadata": {},
     "output_type": "execute_result"
    }
   ],
   "source": [
    "lugar_nacimiento_angles=lugar_nacimiento.sort_values(by='Año', ascending=True)\n",
    "lugar_nacimiento_angles"
   ]
  },
  {
   "cell_type": "code",
   "execution_count": 7,
   "id": "5f7fb82b",
   "metadata": {},
   "outputs": [],
   "source": [
    "serie_extranjeros_angles = lugar_nacimiento_angles[['Año', 'Estranger']]\n",
    "serie_extranjeros_angles = lugar_nacimiento_angles.set_index('Año')\n",
    "serie_extranjeros_angles.index = pd.to_datetime(serie_extranjeros_angles.index, format='%Y')\n",
    "serie_extranjeros_angles = serie_extranjeros_angles['Estranger']"
   ]
  },
  {
   "cell_type": "code",
   "execution_count": 8,
   "id": "b0461a00",
   "metadata": {},
   "outputs": [
    {
     "name": "stdout",
     "output_type": "stream",
     "text": [
      "Número de filas con missing values: 0.0\n"
     ]
    }
   ],
   "source": [
    "print(f'Número de filas con missing values: {lugar_nacimiento.isnull().any(axis=1).mean()}')"
   ]
  },
  {
   "cell_type": "code",
   "execution_count": 9,
   "id": "a9305386",
   "metadata": {},
   "outputs": [
    {
     "name": "stdout",
     "output_type": "stream",
     "text": [
      "Fechas train : 2000-01-01 00:00:00 --- 2015-01-01 00:00:00  (n=16)\n",
      "Fechas test  : 2016-01-01 00:00:00 --- 2022-01-01 00:00:00  (n=7)\n"
     ]
    },
    {
     "data": {
      "image/png": "[encoded data removed]",
      "text/plain": [
       "<Figure size 720x432 with 1 Axes>"
      ]
     },
     "metadata": {
      "needs_background": "light"
     },
     "output_type": "display_data"
    }
   ],
   "source": [
    "# Separación datos train-test\n",
    "# ==============================================================================\n",
    "steps = 7 #se utilizan los últimos 7 años como conjunto test para evaluar la capacidad del modelo\n",
    "datos_train = serie_extranjeros_angles[:-steps]\n",
    "datos_test  = serie_extranjeros_angles[-steps:]\n",
    "\n",
    "print(f\"Fechas train : {datos_train.index.min()} --- {datos_train.index.max()}  (n={len(datos_train)})\")\n",
    "print(f\"Fechas test  : {datos_test.index.min()} --- {datos_test.index.max()}  (n={len(datos_test)})\")\n",
    "\n",
    "fig, ax = plt.subplots(figsize=(10, 6))\n",
    "datos_train.plot(ax=ax, label='train')\n",
    "datos_test.plot(ax=ax, label='test')\n",
    "ax.legend();"
   ]
  },
  {
   "cell_type": "markdown",
   "id": "e8eea12e",
   "metadata": {},
   "source": [
    "### ForecasterAutoreg\n",
    "\n",
    "Se crea y entrena un modelo ForecasterAutoreg a partir de un regresor RandomForestRegressor y una ventana temporal de 7 lags. Esto último significa que, el modelo, utiliza como predictores los 7 años anteriores."
   ]
  },
  {
   "cell_type": "code",
   "execution_count": 46,
   "id": "0d20f04c",
   "metadata": {},
   "outputs": [],
   "source": [
    "#datos_test.index = pd.to_datetime(datos_test.index, format='%Y-%m-%d')\n",
    "#datos_train.index = pd.to_datetime(datos_train.index, format='%Y-%m-%d')"
   ]
  },
  {
   "cell_type": "code",
   "execution_count": 10,
   "id": "281d1c24",
   "metadata": {},
   "outputs": [
    {
     "data": {
      "text/plain": [
       "Año\n",
       "2016-01-01    1023\n",
       "2017-01-01    1060\n",
       "2018-01-01    1141\n",
       "2019-01-01    1216\n",
       "2020-01-01    1310\n",
       "2021-01-01    1374\n",
       "2022-01-01    1367\n",
       "Name: Estranger, dtype: int64"
      ]
     },
     "execution_count": 10,
     "metadata": {},
     "output_type": "execute_result"
    }
   ],
   "source": [
    "datos_test"
   ]
  },
  {
   "cell_type": "code",
   "execution_count": 11,
   "id": "7cdc83f3",
   "metadata": {},
   "outputs": [],
   "source": [
    "freq = pd.infer_freq(datos_train.index)\n",
    "datos_train.index = pd.date_range(start=datos_train.index[0], periods=len(datos_train), freq=freq)"
   ]
  },
  {
   "cell_type": "code",
   "execution_count": 12,
   "id": "597eaf93",
   "metadata": {},
   "outputs": [],
   "source": [
    "freq = pd.infer_freq(datos_test.index)\n",
    "datos_test.index = pd.date_range(start=datos_test.index[0], periods=len(datos_test), freq=freq)"
   ]
  },
  {
   "cell_type": "code",
   "execution_count": 13,
   "id": "22dcdce1",
   "metadata": {},
   "outputs": [
    {
     "data": {
      "text/plain": [
       "================= \n",
       "ForecasterAutoreg \n",
       "================= \n",
       "Regressor: RandomForestRegressor(random_state=123) \n",
       "Lags: [1 2 3 4 5 6 7] \n",
       "Transformer for y: None \n",
       "Transformer for exog: None \n",
       "Window size: 7 \n",
       "Weight function included: False \n",
       "Exogenous included: False \n",
       "Type of exogenous variable: None \n",
       "Exogenous variables names: None \n",
       "Training range: [Timestamp('2000-01-01 00:00:00'), Timestamp('2015-01-01 00:00:00')] \n",
       "Training index type: DatetimeIndex \n",
       "Training index frequency: AS-JAN \n",
       "Regressor parameters: {'bootstrap': True, 'ccp_alpha': 0.0, 'criterion': 'squared_error', 'max_depth': None, 'max_features': 1.0, 'max_leaf_nodes': None, 'max_samples': None, 'min_impurity_decrease': 0.0, 'min_samples_leaf': 1, 'min_samples_split': 2, 'min_weight_fraction_leaf': 0.0, 'n_estimators': 100, 'n_jobs': None, 'oob_score': False, 'random_state': 123, 'verbose': 0, 'warm_start': False} \n",
       "Creation date: 2023-04-11 17:16:15 \n",
       "Last fit date: 2023-04-11 17:16:15 \n",
       "Skforecast version: 0.7.0 \n",
       "Python version: 3.10.5 \n",
       "Forecaster id: None "
      ]
     },
     "execution_count": 13,
     "metadata": {},
     "output_type": "execute_result"
    }
   ],
   "source": [
    "# Crear y entrenar forecaster\n",
    "# ==============================================================================\n",
    "forecaster = ForecasterAutoreg(\n",
    "                regressor = RandomForestRegressor(random_state=123),\n",
    "                lags = 7\n",
    "             )\n",
    "\n",
    "forecaster.fit(y=datos_train)\n",
    "forecaster"
   ]
  },
  {
   "cell_type": "markdown",
   "id": "21cae648",
   "metadata": {},
   "source": [
    "### Predicciones\n",
    "\n",
    "Una vez entrenado el modelo, se predicen los datos de test (5 años a futuro)."
   ]
  },
  {
   "cell_type": "code",
   "execution_count": 14,
   "id": "f09f9082",
   "metadata": {},
   "outputs": [
    {
     "data": {
      "text/plain": [
       "2016-01-01    1078.10\n",
       "2017-01-01    1084.62\n",
       "2018-01-01    1086.18\n",
       "2019-01-01    1085.38\n",
       "2020-01-01    1083.70\n",
       "2021-01-01    1083.28\n",
       "2022-01-01    1084.08\n",
       "Freq: AS-JAN, Name: pred, dtype: float64"
      ]
     },
     "execution_count": 14,
     "metadata": {},
     "output_type": "execute_result"
    }
   ],
   "source": [
    "steps = 7\n",
    "predicciones = forecaster.predict(steps=steps)\n",
    "predicciones.head(7)"
   ]
  },
  {
   "cell_type": "code",
   "execution_count": 15,
   "id": "5e846c71",
   "metadata": {},
   "outputs": [
    {
     "data": {
      "image/png": "[encoded data removed]",
      "text/plain": [
       "<Figure size 720x432 with 1 Axes>"
      ]
     },
     "metadata": {
      "needs_background": "light"
     },
     "output_type": "display_data"
    }
   ],
   "source": [
    "# Gráfico\n",
    "fig, ax = plt.subplots(figsize=(10, 6))\n",
    "datos_train.plot(ax=ax, label='train')\n",
    "datos_test.plot(ax=ax, label='test')\n",
    "predicciones.plot(ax=ax, label='predicciones')\n",
    "ax.legend();"
   ]
  },
  {
   "cell_type": "markdown",
   "id": "87e2eb62",
   "metadata": {},
   "source": [
    "### Error de las predicciones en el conjunto de test\n",
    "\n",
    "Se cuantifica el error que comete el modelo en sus predicciones. En este caso, se emplea como métrica el mean squared error (mse)."
   ]
  },
  {
   "cell_type": "code",
   "execution_count": 16,
   "id": "b519ed48",
   "metadata": {},
   "outputs": [
    {
     "name": "stdout",
     "output_type": "stream",
     "text": [
      "Error de test (mse): 34211.78657142857\n"
     ]
    }
   ],
   "source": [
    "# Error test\n",
    "\n",
    "error_mse = mean_squared_error(\n",
    "                y_true = datos_test,\n",
    "                y_pred = predicciones\n",
    "            )\n",
    "\n",
    "print(f\"Error de test (mse): {error_mse}\")"
   ]
  },
  {
   "cell_type": "markdown",
   "id": "b79906e4",
   "metadata": {},
   "source": [
    "### Ajuste de hiperparámetros (tuning)\n",
    "\n",
    "El ForecasterAutoreg entrenado ha utilizado una ventana temporal de 6 lags y un modelo Random Forest con los hiperparámetros por defecto. Sin embargo, no hay ninguna razón por la que estos valores sean los más adecuados. Para identificar la mejor combinación de lags e hiperparámetros, la librería Skforecast dispone de la función grid_search_forecaster con la que comparar los resultados obtenidos con cada configuración del modelo."
   ]
  },
  {
   "cell_type": "code",
   "execution_count": 17,
   "id": "2bf4c609",
   "metadata": {},
   "outputs": [
    {
     "name": "stdout",
     "output_type": "stream",
     "text": [
      "Number of models compared: 12.\n"
     ]
    },
    {
     "name": "stderr",
     "output_type": "stream",
     "text": [
      "loop lags_grid:   0%|                                               | 0/2 [00:00<?, ?it/s]\n",
      "loop param_grid:   0%|                                              | 0/6 [00:00<?, ?it/s]\u001b[A\n",
      "loop param_grid:  17%|██████▎                               | 1/6 [00:00<00:00,  6.08it/s]\u001b[A\n",
      "loop param_grid:  33%|████████████▋                         | 2/6 [00:00<00:02,  1.81it/s]\u001b[A\n",
      "loop param_grid:  50%|███████████████████                   | 3/6 [00:01<00:01,  2.64it/s]\u001b[A\n",
      "loop param_grid:  67%|█████████████████████████▎            | 4/6 [00:01<00:01,  1.86it/s]\u001b[A\n",
      "loop param_grid:  83%|███████████████████████████████▋      | 5/6 [00:02<00:00,  2.50it/s]\u001b[A\n",
      "loop param_grid: 100%|██████████████████████████████████████| 6/6 [00:02<00:00,  1.83it/s]\u001b[A\n",
      "loop lags_grid:  50%|███████████████████▌                   | 1/2 [00:02<00:02,  2.93s/it]\u001b[A\n",
      "loop param_grid:   0%|                                              | 0/6 [00:00<?, ?it/s]\u001b[A\n",
      "loop param_grid:  17%|██████▎                               | 1/6 [00:00<00:00,  6.28it/s]\u001b[A\n",
      "loop param_grid:  33%|████████████▋                         | 2/6 [00:01<00:02,  1.76it/s]\u001b[A\n",
      "loop param_grid:  50%|███████████████████                   | 3/6 [00:01<00:01,  2.55it/s]\u001b[A\n",
      "loop param_grid:  67%|█████████████████████████▎            | 4/6 [00:01<00:01,  1.90it/s]\u001b[A\n",
      "loop param_grid:  83%|███████████████████████████████▋      | 5/6 [00:02<00:00,  2.51it/s]\u001b[A\n",
      "loop param_grid: 100%|██████████████████████████████████████| 6/6 [00:02<00:00,  1.94it/s]\u001b[A\n",
      "loop lags_grid: 100%|███████████████████████████████████████| 2/2 [00:05<00:00,  2.89s/it]\u001b[A"
     ]
    },
    {
     "name": "stdout",
     "output_type": "stream",
     "text": [
      "`Forecaster` refitted using the best-found lags and parameters, and the whole data set: \n",
      "  Lags: [1 2 3 4 5] \n",
      "  Parameters: {'max_depth': 5, 'n_estimators': 100}\n",
      "  Backtesting metric: 882.0900000000026\n",
      "\n"
     ]
    },
    {
     "name": "stderr",
     "output_type": "stream",
     "text": [
      "\n"
     ]
    }
   ],
   "source": [
    "# Grid search de hiperparámetros\n",
    "\n",
    "steps = 7\n",
    "forecaster = ForecasterAutoreg(\n",
    "                regressor = RandomForestRegressor(random_state=123),\n",
    "                lags      = 7 # Este valor será remplazado en el grid search\n",
    "             )\n",
    "\n",
    "# Lags utilizados como predictores\n",
    "lags_grid = [5,10]\n",
    "\n",
    "# Hiperparámetros del regresor\n",
    "param_grid = {'n_estimators': [100, 500],\n",
    "              'max_depth': [3, 5, 7]}\n",
    "\n",
    "resultados_grid = grid_search_forecaster(\n",
    "                        forecaster         = forecaster,\n",
    "                        y                  = datos_train,\n",
    "                        param_grid         = param_grid,\n",
    "                        lags_grid          = lags_grid,\n",
    "                        steps              = steps,\n",
    "                        refit              = True,\n",
    "                        metric             = 'mean_squared_error',\n",
    "                        initial_train_size = 15,\n",
    "                        fixed_train_size   = False,\n",
    "                        return_best        = True,\n",
    "                        verbose            = False\n",
    "                  )"
   ]
  },
  {
   "cell_type": "code",
   "execution_count": 18,
   "id": "0d858489",
   "metadata": {},
   "outputs": [
    {
     "data": {
      "text/html": [
       "<div>\n",
       "<style scoped>\n",
       "    .dataframe tbody tr th:only-of-type {\n",
       "        vertical-align: middle;\n",
       "    }\n",
       "\n",
       "    .dataframe tbody tr th {\n",
       "        vertical-align: top;\n",
       "    }\n",
       "\n",
       "    .dataframe thead th {\n",
       "        text-align: right;\n",
       "    }\n",
       "</style>\n",
       "<table border=\"1\" class=\"dataframe\">\n",
       "  <thead>\n",
       "    <tr style=\"text-align: right;\">\n",
       "      <th></th>\n",
       "      <th>lags</th>\n",
       "      <th>params</th>\n",
       "      <th>mean_squared_error</th>\n",
       "      <th>max_depth</th>\n",
       "      <th>n_estimators</th>\n",
       "    </tr>\n",
       "  </thead>\n",
       "  <tbody>\n",
       "    <tr>\n",
       "      <th>2</th>\n",
       "      <td>[1, 2, 3, 4, 5]</td>\n",
       "      <td>{'max_depth': 5, 'n_estimators': 100}</td>\n",
       "      <td>882.090000</td>\n",
       "      <td>5</td>\n",
       "      <td>100</td>\n",
       "    </tr>\n",
       "    <tr>\n",
       "      <th>4</th>\n",
       "      <td>[1, 2, 3, 4, 5]</td>\n",
       "      <td>{'max_depth': 7, 'n_estimators': 100}</td>\n",
       "      <td>882.090000</td>\n",
       "      <td>7</td>\n",
       "      <td>100</td>\n",
       "    </tr>\n",
       "    <tr>\n",
       "      <th>3</th>\n",
       "      <td>[1, 2, 3, 4, 5]</td>\n",
       "      <td>{'max_depth': 5, 'n_estimators': 500}</td>\n",
       "      <td>949.995684</td>\n",
       "      <td>5</td>\n",
       "      <td>500</td>\n",
       "    </tr>\n",
       "    <tr>\n",
       "      <th>5</th>\n",
       "      <td>[1, 2, 3, 4, 5]</td>\n",
       "      <td>{'max_depth': 7, 'n_estimators': 500}</td>\n",
       "      <td>949.995684</td>\n",
       "      <td>7</td>\n",
       "      <td>500</td>\n",
       "    </tr>\n",
       "    <tr>\n",
       "      <th>7</th>\n",
       "      <td>[1, 2, 3, 4, 5, 6, 7, 8, 9, 10]</td>\n",
       "      <td>{'max_depth': 3, 'n_estimators': 500}</td>\n",
       "      <td>1001.849104</td>\n",
       "      <td>3</td>\n",
       "      <td>500</td>\n",
       "    </tr>\n",
       "    <tr>\n",
       "      <th>9</th>\n",
       "      <td>[1, 2, 3, 4, 5, 6, 7, 8, 9, 10]</td>\n",
       "      <td>{'max_depth': 5, 'n_estimators': 500}</td>\n",
       "      <td>1001.849104</td>\n",
       "      <td>5</td>\n",
       "      <td>500</td>\n",
       "    </tr>\n",
       "    <tr>\n",
       "      <th>11</th>\n",
       "      <td>[1, 2, 3, 4, 5, 6, 7, 8, 9, 10]</td>\n",
       "      <td>{'max_depth': 7, 'n_estimators': 500}</td>\n",
       "      <td>1001.849104</td>\n",
       "      <td>7</td>\n",
       "      <td>500</td>\n",
       "    </tr>\n",
       "    <tr>\n",
       "      <th>6</th>\n",
       "      <td>[1, 2, 3, 4, 5, 6, 7, 8, 9, 10]</td>\n",
       "      <td>{'max_depth': 3, 'n_estimators': 100}</td>\n",
       "      <td>1017.610000</td>\n",
       "      <td>3</td>\n",
       "      <td>100</td>\n",
       "    </tr>\n",
       "    <tr>\n",
       "      <th>8</th>\n",
       "      <td>[1, 2, 3, 4, 5, 6, 7, 8, 9, 10]</td>\n",
       "      <td>{'max_depth': 5, 'n_estimators': 100}</td>\n",
       "      <td>1017.610000</td>\n",
       "      <td>5</td>\n",
       "      <td>100</td>\n",
       "    </tr>\n",
       "    <tr>\n",
       "      <th>10</th>\n",
       "      <td>[1, 2, 3, 4, 5, 6, 7, 8, 9, 10]</td>\n",
       "      <td>{'max_depth': 7, 'n_estimators': 100}</td>\n",
       "      <td>1017.610000</td>\n",
       "      <td>7</td>\n",
       "      <td>100</td>\n",
       "    </tr>\n",
       "    <tr>\n",
       "      <th>1</th>\n",
       "      <td>[1, 2, 3, 4, 5]</td>\n",
       "      <td>{'max_depth': 3, 'n_estimators': 500}</td>\n",
       "      <td>1239.683070</td>\n",
       "      <td>3</td>\n",
       "      <td>500</td>\n",
       "    </tr>\n",
       "    <tr>\n",
       "      <th>0</th>\n",
       "      <td>[1, 2, 3, 4, 5]</td>\n",
       "      <td>{'max_depth': 3, 'n_estimators': 100}</td>\n",
       "      <td>1324.377664</td>\n",
       "      <td>3</td>\n",
       "      <td>100</td>\n",
       "    </tr>\n",
       "  </tbody>\n",
       "</table>\n",
       "</div>"
      ],
      "text/plain": [
       "                               lags                                 params  \\\n",
       "2                   [1, 2, 3, 4, 5]  {'max_depth': 5, 'n_estimators': 100}   \n",
       "4                   [1, 2, 3, 4, 5]  {'max_depth': 7, 'n_estimators': 100}   \n",
       "3                   [1, 2, 3, 4, 5]  {'max_depth': 5, 'n_estimators': 500}   \n",
       "5                   [1, 2, 3, 4, 5]  {'max_depth': 7, 'n_estimators': 500}   \n",
       "7   [1, 2, 3, 4, 5, 6, 7, 8, 9, 10]  {'max_depth': 3, 'n_estimators': 500}   \n",
       "9   [1, 2, 3, 4, 5, 6, 7, 8, 9, 10]  {'max_depth': 5, 'n_estimators': 500}   \n",
       "11  [1, 2, 3, 4, 5, 6, 7, 8, 9, 10]  {'max_depth': 7, 'n_estimators': 500}   \n",
       "6   [1, 2, 3, 4, 5, 6, 7, 8, 9, 10]  {'max_depth': 3, 'n_estimators': 100}   \n",
       "8   [1, 2, 3, 4, 5, 6, 7, 8, 9, 10]  {'max_depth': 5, 'n_estimators': 100}   \n",
       "10  [1, 2, 3, 4, 5, 6, 7, 8, 9, 10]  {'max_depth': 7, 'n_estimators': 100}   \n",
       "1                   [1, 2, 3, 4, 5]  {'max_depth': 3, 'n_estimators': 500}   \n",
       "0                   [1, 2, 3, 4, 5]  {'max_depth': 3, 'n_estimators': 100}   \n",
       "\n",
       "    mean_squared_error  max_depth  n_estimators  \n",
       "2           882.090000          5           100  \n",
       "4           882.090000          7           100  \n",
       "3           949.995684          5           500  \n",
       "5           949.995684          7           500  \n",
       "7          1001.849104          3           500  \n",
       "9          1001.849104          5           500  \n",
       "11         1001.849104          7           500  \n",
       "6          1017.610000          3           100  \n",
       "8          1017.610000          5           100  \n",
       "10         1017.610000          7           100  \n",
       "1          1239.683070          3           500  \n",
       "0          1324.377664          3           100  "
      ]
     },
     "execution_count": 18,
     "metadata": {},
     "output_type": "execute_result"
    }
   ],
   "source": [
    "# Resultados Grid Search\n",
    "\n",
    "resultados_grid"
   ]
  },
  {
   "cell_type": "markdown",
   "id": "a089cf30",
   "metadata": {},
   "source": [
    "Los mejores resultados se obtienen si se utiliza una ventana temporal de 5 lags y una configuración de Random Forest {'max_depth': 5, 'n_estimators': 100}."
   ]
  },
  {
   "cell_type": "markdown",
   "id": "b91422f3",
   "metadata": {},
   "source": [
    "### Modelo final\n",
    "\n",
    "Finalmente, se entrena de nuevo un ForecasterAutoreg con la configuración óptima encontrada mediante validación. Este paso no es necesario si se indica return_best = True en la función grid_search_forecaster."
   ]
  },
  {
   "cell_type": "code",
   "execution_count": 19,
   "id": "056fe98b",
   "metadata": {},
   "outputs": [],
   "source": [
    "# Crear y entrenar forecaster con mejores hiperparámetros\n",
    "\n",
    "regressor = RandomForestRegressor(max_depth=5, n_estimators=100, random_state=123)\n",
    "forecaster = ForecasterAutoreg(\n",
    "                regressor = regressor,\n",
    "                lags      = 5\n",
    "             )\n",
    "\n",
    "forecaster.fit(y=datos_train)"
   ]
  },
  {
   "cell_type": "code",
   "execution_count": 20,
   "id": "9592c584",
   "metadata": {},
   "outputs": [],
   "source": [
    "# Predicciones\n",
    "predicciones = forecaster.predict(steps=steps)"
   ]
  },
  {
   "cell_type": "code",
   "execution_count": 21,
   "id": "6845e75e",
   "metadata": {},
   "outputs": [
    {
     "data": {
      "image/png": "[encoded data removed]",
      "text/plain": [
       "<Figure size 720x432 with 1 Axes>"
      ]
     },
     "metadata": {
      "needs_background": "light"
     },
     "output_type": "display_data"
    }
   ],
   "source": [
    "# Gráfico\n",
    "fig, ax = plt.subplots(figsize=(10, 6))\n",
    "datos_train.plot(ax=ax, label='train')\n",
    "datos_test.plot(ax=ax, label='test')\n",
    "predicciones.plot(ax=ax, label='predicciones')\n",
    "ax.legend();"
   ]
  },
  {
   "cell_type": "markdown",
   "id": "13dd830b",
   "metadata": {},
   "source": [
    "### Error del Test"
   ]
  },
  {
   "cell_type": "code",
   "execution_count": 22,
   "id": "f186f120",
   "metadata": {},
   "outputs": [
    {
     "name": "stdout",
     "output_type": "stream",
     "text": [
      "Error de test (mse) 33859.10939047616\n"
     ]
    }
   ],
   "source": [
    "error_mse = mean_squared_error(\n",
    "                y_true = datos_test,\n",
    "                y_pred = predicciones\n",
    "            )\n",
    "\n",
    "print(f\"Error de test (mse) {error_mse}\")"
   ]
  }
 ],
 "metadata": {
  "kernelspec": {
   "display_name": "Python 3 (ipykernel)",
   "language": "python",
   "name": "python3"
  },
  "language_info": {
   "codemirror_mode": {
    "name": "ipython",
    "version": 3
   },
   "file_extension": ".py",
   "mimetype": "text/x-python",
   "name": "python",
   "nbconvert_exporter": "python",
   "pygments_lexer": "ipython3",
   "version": "3.10.5"
  }
 },
 "nbformat": 4,
 "nbformat_minor": 5
}

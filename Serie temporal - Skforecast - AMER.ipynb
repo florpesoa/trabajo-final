{
 "cells": [
  {
   "cell_type": "code",
   "execution_count": 4,
   "id": "2eede2c0",
   "metadata": {},
   "outputs": [],
   "source": [
    "import pandas as pd \n",
    "import numpy as np\n",
    "import matplotlib.pyplot as plt\n",
    "import seaborn as sns\n",
    "from sklearn import preprocessing\n",
    "from sklearn.model_selection import train_test_split\n",
    "from scipy import stats\n",
    "from statsmodels.tsa.stattools import adfuller\n",
    "from statsmodels.graphics.tsaplots import plot_acf, plot_pacf\n",
    "from pmdarima.arima import auto_arima\n",
    "\n",
    "# Tratamiento de datos\n",
    "# ==============================================================================\n",
    "import numpy as np\n",
    "import pandas as pd\n",
    "\n",
    "# Gráficos\n",
    "# ==============================================================================\n",
    "import matplotlib.pyplot as plt\n",
    "plt.style.use('fivethirtyeight')\n",
    "plt.rcParams['lines.linewidth'] = 1.5\n",
    "\n",
    "# Modelado y Forecasting\n",
    "# ==============================================================================\n",
    "from sklearn.linear_model import LinearRegression\n",
    "from sklearn.linear_model import Lasso\n",
    "from sklearn.ensemble import RandomForestRegressor\n",
    "from sklearn.metrics import mean_squared_error\n",
    "from sklearn.preprocessing import StandardScaler\n",
    "from sklearn.pipeline import make_pipeline\n",
    "\n",
    "\n",
    "from skforecast.ForecasterAutoreg import ForecasterAutoreg\n",
    "from skforecast.ForecasterAutoregCustom import ForecasterAutoregCustom\n",
    "from skforecast.ForecasterAutoregDirect import ForecasterAutoregDirect\n",
    "from skforecast.model_selection import grid_search_forecaster\n",
    "from skforecast.model_selection import backtesting_forecaster\n",
    "from skforecast.utils import save_forecaster\n",
    "from skforecast.utils import load_forecaster\n",
    "\n",
    "# Configuración warnings\n",
    "# ==============================================================================\n",
    "import warnings\n",
    "# warnings.filterwarnings('ignore')"
   ]
  },
  {
   "cell_type": "code",
   "execution_count": 13,
   "id": "cb9399a0",
   "metadata": {},
   "outputs": [],
   "source": [
    "lugar_nacimiento=pd.read_csv('t674mun_170078AMER.csv', sep=';')"
   ]
  },
  {
   "cell_type": "code",
   "execution_count": 14,
   "id": "f4d86f08",
   "metadata": {},
   "outputs": [],
   "source": [
    "lugar_nacimiento=lugar_nacimiento.rename(columns={'Unnamed: 0': 'Año'})"
   ]
  },
  {
   "cell_type": "code",
   "execution_count": 15,
   "id": "0d5fff16",
   "metadata": {},
   "outputs": [
    {
     "data": {
      "text/plain": [
       "Index(['Año', 'Catalunya', 'Mateixa comarca', 'Altra comarca',\n",
       "       'Resta d'Espanya', 'Estranger', 'Total'],\n",
       "      dtype='object')"
      ]
     },
     "execution_count": 15,
     "metadata": {},
     "output_type": "execute_result"
    }
   ],
   "source": [
    "lugar_nacimiento.columns"
   ]
  },
  {
   "cell_type": "code",
   "execution_count": 16,
   "id": "ed7c87e3",
   "metadata": {},
   "outputs": [
    {
     "data": {
      "text/html": [
       "<div>\n",
       "<style scoped>\n",
       "    .dataframe tbody tr th:only-of-type {\n",
       "        vertical-align: middle;\n",
       "    }\n",
       "\n",
       "    .dataframe tbody tr th {\n",
       "        vertical-align: top;\n",
       "    }\n",
       "\n",
       "    .dataframe thead th {\n",
       "        text-align: right;\n",
       "    }\n",
       "</style>\n",
       "<table border=\"1\" class=\"dataframe\">\n",
       "  <thead>\n",
       "    <tr style=\"text-align: right;\">\n",
       "      <th></th>\n",
       "      <th>Año</th>\n",
       "      <th>Catalunya</th>\n",
       "      <th>Mateixa comarca</th>\n",
       "      <th>Altra comarca</th>\n",
       "      <th>Resta d'Espanya</th>\n",
       "      <th>Estranger</th>\n",
       "      <th>Total</th>\n",
       "    </tr>\n",
       "  </thead>\n",
       "  <tbody>\n",
       "    <tr>\n",
       "      <th>22</th>\n",
       "      <td>2000</td>\n",
       "      <td>1963</td>\n",
       "      <td>1478</td>\n",
       "      <td>485</td>\n",
       "      <td>226</td>\n",
       "      <td>31</td>\n",
       "      <td>2220</td>\n",
       "    </tr>\n",
       "    <tr>\n",
       "      <th>21</th>\n",
       "      <td>2001</td>\n",
       "      <td>1947</td>\n",
       "      <td>1465</td>\n",
       "      <td>482</td>\n",
       "      <td>220</td>\n",
       "      <td>38</td>\n",
       "      <td>2205</td>\n",
       "    </tr>\n",
       "    <tr>\n",
       "      <th>20</th>\n",
       "      <td>2002</td>\n",
       "      <td>1922</td>\n",
       "      <td>1437</td>\n",
       "      <td>485</td>\n",
       "      <td>226</td>\n",
       "      <td>48</td>\n",
       "      <td>2196</td>\n",
       "    </tr>\n",
       "    <tr>\n",
       "      <th>19</th>\n",
       "      <td>2003</td>\n",
       "      <td>1908</td>\n",
       "      <td>1429</td>\n",
       "      <td>479</td>\n",
       "      <td>224</td>\n",
       "      <td>57</td>\n",
       "      <td>2189</td>\n",
       "    </tr>\n",
       "    <tr>\n",
       "      <th>18</th>\n",
       "      <td>2004</td>\n",
       "      <td>1886</td>\n",
       "      <td>1411</td>\n",
       "      <td>475</td>\n",
       "      <td>226</td>\n",
       "      <td>72</td>\n",
       "      <td>2184</td>\n",
       "    </tr>\n",
       "    <tr>\n",
       "      <th>17</th>\n",
       "      <td>2005</td>\n",
       "      <td>1906</td>\n",
       "      <td>1418</td>\n",
       "      <td>488</td>\n",
       "      <td>223</td>\n",
       "      <td>108</td>\n",
       "      <td>2237</td>\n",
       "    </tr>\n",
       "    <tr>\n",
       "      <th>16</th>\n",
       "      <td>2006</td>\n",
       "      <td>1896</td>\n",
       "      <td>1395</td>\n",
       "      <td>501</td>\n",
       "      <td>219</td>\n",
       "      <td>143</td>\n",
       "      <td>2258</td>\n",
       "    </tr>\n",
       "    <tr>\n",
       "      <th>15</th>\n",
       "      <td>2007</td>\n",
       "      <td>1887</td>\n",
       "      <td>1379</td>\n",
       "      <td>508</td>\n",
       "      <td>222</td>\n",
       "      <td>157</td>\n",
       "      <td>2266</td>\n",
       "    </tr>\n",
       "    <tr>\n",
       "      <th>14</th>\n",
       "      <td>2008</td>\n",
       "      <td>1858</td>\n",
       "      <td>1352</td>\n",
       "      <td>506</td>\n",
       "      <td>209</td>\n",
       "      <td>203</td>\n",
       "      <td>2270</td>\n",
       "    </tr>\n",
       "    <tr>\n",
       "      <th>13</th>\n",
       "      <td>2009</td>\n",
       "      <td>1872</td>\n",
       "      <td>1340</td>\n",
       "      <td>532</td>\n",
       "      <td>207</td>\n",
       "      <td>225</td>\n",
       "      <td>2304</td>\n",
       "    </tr>\n",
       "    <tr>\n",
       "      <th>12</th>\n",
       "      <td>2010</td>\n",
       "      <td>1870</td>\n",
       "      <td>1334</td>\n",
       "      <td>536</td>\n",
       "      <td>202</td>\n",
       "      <td>234</td>\n",
       "      <td>2306</td>\n",
       "    </tr>\n",
       "    <tr>\n",
       "      <th>11</th>\n",
       "      <td>2011</td>\n",
       "      <td>1854</td>\n",
       "      <td>1307</td>\n",
       "      <td>547</td>\n",
       "      <td>195</td>\n",
       "      <td>228</td>\n",
       "      <td>2277</td>\n",
       "    </tr>\n",
       "    <tr>\n",
       "      <th>10</th>\n",
       "      <td>2012</td>\n",
       "      <td>1866</td>\n",
       "      <td>1304</td>\n",
       "      <td>562</td>\n",
       "      <td>194</td>\n",
       "      <td>217</td>\n",
       "      <td>2277</td>\n",
       "    </tr>\n",
       "    <tr>\n",
       "      <th>9</th>\n",
       "      <td>2013</td>\n",
       "      <td>1856</td>\n",
       "      <td>1300</td>\n",
       "      <td>556</td>\n",
       "      <td>194</td>\n",
       "      <td>233</td>\n",
       "      <td>2283</td>\n",
       "    </tr>\n",
       "    <tr>\n",
       "      <th>8</th>\n",
       "      <td>2014</td>\n",
       "      <td>1853</td>\n",
       "      <td>1288</td>\n",
       "      <td>565</td>\n",
       "      <td>192</td>\n",
       "      <td>236</td>\n",
       "      <td>2281</td>\n",
       "    </tr>\n",
       "    <tr>\n",
       "      <th>7</th>\n",
       "      <td>2015</td>\n",
       "      <td>1831</td>\n",
       "      <td>1271</td>\n",
       "      <td>560</td>\n",
       "      <td>193</td>\n",
       "      <td>226</td>\n",
       "      <td>2250</td>\n",
       "    </tr>\n",
       "    <tr>\n",
       "      <th>6</th>\n",
       "      <td>2016</td>\n",
       "      <td>1848</td>\n",
       "      <td>1274</td>\n",
       "      <td>574</td>\n",
       "      <td>187</td>\n",
       "      <td>225</td>\n",
       "      <td>2260</td>\n",
       "    </tr>\n",
       "    <tr>\n",
       "      <th>5</th>\n",
       "      <td>2017</td>\n",
       "      <td>1835</td>\n",
       "      <td>1266</td>\n",
       "      <td>569</td>\n",
       "      <td>195</td>\n",
       "      <td>212</td>\n",
       "      <td>2242</td>\n",
       "    </tr>\n",
       "    <tr>\n",
       "      <th>4</th>\n",
       "      <td>2018</td>\n",
       "      <td>1861</td>\n",
       "      <td>1268</td>\n",
       "      <td>593</td>\n",
       "      <td>190</td>\n",
       "      <td>205</td>\n",
       "      <td>2256</td>\n",
       "    </tr>\n",
       "    <tr>\n",
       "      <th>3</th>\n",
       "      <td>2019</td>\n",
       "      <td>1885</td>\n",
       "      <td>1263</td>\n",
       "      <td>622</td>\n",
       "      <td>190</td>\n",
       "      <td>223</td>\n",
       "      <td>2298</td>\n",
       "    </tr>\n",
       "    <tr>\n",
       "      <th>2</th>\n",
       "      <td>2020</td>\n",
       "      <td>1903</td>\n",
       "      <td>1261</td>\n",
       "      <td>642</td>\n",
       "      <td>184</td>\n",
       "      <td>245</td>\n",
       "      <td>2332</td>\n",
       "    </tr>\n",
       "    <tr>\n",
       "      <th>1</th>\n",
       "      <td>2021</td>\n",
       "      <td>1916</td>\n",
       "      <td>1264</td>\n",
       "      <td>652</td>\n",
       "      <td>189</td>\n",
       "      <td>278</td>\n",
       "      <td>2383</td>\n",
       "    </tr>\n",
       "    <tr>\n",
       "      <th>0</th>\n",
       "      <td>2022</td>\n",
       "      <td>1936</td>\n",
       "      <td>1258</td>\n",
       "      <td>678</td>\n",
       "      <td>183</td>\n",
       "      <td>303</td>\n",
       "      <td>2422</td>\n",
       "    </tr>\n",
       "  </tbody>\n",
       "</table>\n",
       "</div>"
      ],
      "text/plain": [
       "     Año  Catalunya  Mateixa comarca  Altra comarca  Resta d'Espanya  \\\n",
       "22  2000       1963             1478            485              226   \n",
       "21  2001       1947             1465            482              220   \n",
       "20  2002       1922             1437            485              226   \n",
       "19  2003       1908             1429            479              224   \n",
       "18  2004       1886             1411            475              226   \n",
       "17  2005       1906             1418            488              223   \n",
       "16  2006       1896             1395            501              219   \n",
       "15  2007       1887             1379            508              222   \n",
       "14  2008       1858             1352            506              209   \n",
       "13  2009       1872             1340            532              207   \n",
       "12  2010       1870             1334            536              202   \n",
       "11  2011       1854             1307            547              195   \n",
       "10  2012       1866             1304            562              194   \n",
       "9   2013       1856             1300            556              194   \n",
       "8   2014       1853             1288            565              192   \n",
       "7   2015       1831             1271            560              193   \n",
       "6   2016       1848             1274            574              187   \n",
       "5   2017       1835             1266            569              195   \n",
       "4   2018       1861             1268            593              190   \n",
       "3   2019       1885             1263            622              190   \n",
       "2   2020       1903             1261            642              184   \n",
       "1   2021       1916             1264            652              189   \n",
       "0   2022       1936             1258            678              183   \n",
       "\n",
       "    Estranger  Total  \n",
       "22         31   2220  \n",
       "21         38   2205  \n",
       "20         48   2196  \n",
       "19         57   2189  \n",
       "18         72   2184  \n",
       "17        108   2237  \n",
       "16        143   2258  \n",
       "15        157   2266  \n",
       "14        203   2270  \n",
       "13        225   2304  \n",
       "12        234   2306  \n",
       "11        228   2277  \n",
       "10        217   2277  \n",
       "9         233   2283  \n",
       "8         236   2281  \n",
       "7         226   2250  \n",
       "6         225   2260  \n",
       "5         212   2242  \n",
       "4         205   2256  \n",
       "3         223   2298  \n",
       "2         245   2332  \n",
       "1         278   2383  \n",
       "0         303   2422  "
      ]
     },
     "execution_count": 16,
     "metadata": {},
     "output_type": "execute_result"
    }
   ],
   "source": [
    "lugar_nacimiento_amer=lugar_nacimiento.sort_values(by='Año', ascending=True)\n",
    "lugar_nacimiento_amer"
   ]
  },
  {
   "cell_type": "code",
   "execution_count": 17,
   "id": "5f7fb82b",
   "metadata": {},
   "outputs": [],
   "source": [
    "serie_extranjeros_amer = lugar_nacimiento_amer[['Año', 'Estranger']]\n",
    "serie_extranjeros_amer = lugar_nacimiento_amer.set_index('Año')\n",
    "serie_extranjeros_amer.index = pd.to_datetime(serie_extranjeros_amer.index, format='%Y')\n",
    "serie_extranjeros_amer = serie_extranjeros_amer['Estranger']"
   ]
  },
  {
   "cell_type": "code",
   "execution_count": 18,
   "id": "b0461a00",
   "metadata": {},
   "outputs": [
    {
     "name": "stdout",
     "output_type": "stream",
     "text": [
      "Número de filas con missing values: 0.0\n"
     ]
    }
   ],
   "source": [
    "print(f'Número de filas con missing values: {lugar_nacimiento.isnull().any(axis=1).mean()}')"
   ]
  },
  {
   "cell_type": "code",
   "execution_count": 19,
   "id": "a9305386",
   "metadata": {},
   "outputs": [
    {
     "name": "stdout",
     "output_type": "stream",
     "text": [
      "Fechas train : 2000-01-01 00:00:00 --- 2015-01-01 00:00:00  (n=16)\n",
      "Fechas test  : 2016-01-01 00:00:00 --- 2022-01-01 00:00:00  (n=7)\n"
     ]
    },
    {
     "data": {
      "image/png": "[encoded data removed]",
      "text/plain": [
       "<Figure size 720x432 with 1 Axes>"
      ]
     },
     "metadata": {
      "needs_background": "light"
     },
     "output_type": "display_data"
    }
   ],
   "source": [
    "# Separación datos train-test\n",
    "# ==============================================================================\n",
    "steps = 7 #se utilizan los últimos 7 años como conjunto test para evaluar la capacidad del modelo\n",
    "datos_train = serie_extranjeros_amer[:-steps]\n",
    "datos_test  = serie_extranjeros_amer[-steps:]\n",
    "\n",
    "print(f\"Fechas train : {datos_train.index.min()} --- {datos_train.index.max()}  (n={len(datos_train)})\")\n",
    "print(f\"Fechas test  : {datos_test.index.min()} --- {datos_test.index.max()}  (n={len(datos_test)})\")\n",
    "\n",
    "fig, ax = plt.subplots(figsize=(10, 6))\n",
    "datos_train.plot(ax=ax, label='train')\n",
    "datos_test.plot(ax=ax, label='test')\n",
    "ax.legend();"
   ]
  },
  {
   "cell_type": "markdown",
   "id": "e8eea12e",
   "metadata": {},
   "source": [
    "### ForecasterAutoreg\n",
    "\n",
    "Se crea y entrena un modelo ForecasterAutoreg a partir de un regresor RandomForestRegressor y una ventana temporal de 7 lags. Esto último significa que, el modelo, utiliza como predictores los 7 años anteriores."
   ]
  },
  {
   "cell_type": "code",
   "execution_count": 46,
   "id": "0d20f04c",
   "metadata": {},
   "outputs": [],
   "source": [
    "#datos_test.index = pd.to_datetime(datos_test.index, format='%Y-%m-%d')\n",
    "#datos_train.index = pd.to_datetime(datos_train.index, format='%Y-%m-%d')"
   ]
  },
  {
   "cell_type": "code",
   "execution_count": 20,
   "id": "281d1c24",
   "metadata": {},
   "outputs": [
    {
     "data": {
      "text/plain": [
       "Año\n",
       "2016-01-01    225\n",
       "2017-01-01    212\n",
       "2018-01-01    205\n",
       "2019-01-01    223\n",
       "2020-01-01    245\n",
       "2021-01-01    278\n",
       "2022-01-01    303\n",
       "Name: Estranger, dtype: int64"
      ]
     },
     "execution_count": 20,
     "metadata": {},
     "output_type": "execute_result"
    }
   ],
   "source": [
    "datos_test"
   ]
  },
  {
   "cell_type": "code",
   "execution_count": 21,
   "id": "7cdc83f3",
   "metadata": {},
   "outputs": [],
   "source": [
    "freq = pd.infer_freq(datos_train.index)\n",
    "datos_train.index = pd.date_range(start=datos_train.index[0], periods=len(datos_train), freq=freq)"
   ]
  },
  {
   "cell_type": "code",
   "execution_count": 22,
   "id": "597eaf93",
   "metadata": {},
   "outputs": [],
   "source": [
    "freq = pd.infer_freq(datos_test.index)\n",
    "datos_test.index = pd.date_range(start=datos_test.index[0], periods=len(datos_test), freq=freq)"
   ]
  },
  {
   "cell_type": "code",
   "execution_count": 23,
   "id": "22dcdce1",
   "metadata": {},
   "outputs": [
    {
     "data": {
      "text/plain": [
       "================= \n",
       "ForecasterAutoreg \n",
       "================= \n",
       "Regressor: RandomForestRegressor(random_state=123) \n",
       "Lags: [1 2 3 4 5 6 7] \n",
       "Transformer for y: None \n",
       "Transformer for exog: None \n",
       "Window size: 7 \n",
       "Weight function included: False \n",
       "Exogenous included: False \n",
       "Type of exogenous variable: None \n",
       "Exogenous variables names: None \n",
       "Training range: [Timestamp('2000-01-01 00:00:00'), Timestamp('2015-01-01 00:00:00')] \n",
       "Training index type: DatetimeIndex \n",
       "Training index frequency: AS-JAN \n",
       "Regressor parameters: {'bootstrap': True, 'ccp_alpha': 0.0, 'criterion': 'squared_error', 'max_depth': None, 'max_features': 1.0, 'max_leaf_nodes': None, 'max_samples': None, 'min_impurity_decrease': 0.0, 'min_samples_leaf': 1, 'min_samples_split': 2, 'min_weight_fraction_leaf': 0.0, 'n_estimators': 100, 'n_jobs': None, 'oob_score': False, 'random_state': 123, 'verbose': 0, 'warm_start': False} \n",
       "Creation date: 2023-04-11 17:10:30 \n",
       "Last fit date: 2023-04-11 17:10:30 \n",
       "Skforecast version: 0.7.0 \n",
       "Python version: 3.10.5 \n",
       "Forecaster id: None "
      ]
     },
     "execution_count": 23,
     "metadata": {},
     "output_type": "execute_result"
    }
   ],
   "source": [
    "# Crear y entrenar forecaster\n",
    "# ==============================================================================\n",
    "forecaster = ForecasterAutoreg(\n",
    "                regressor = RandomForestRegressor(random_state=123),\n",
    "                lags = 7\n",
    "             )\n",
    "\n",
    "forecaster.fit(y=datos_train)\n",
    "forecaster"
   ]
  },
  {
   "cell_type": "markdown",
   "id": "21cae648",
   "metadata": {},
   "source": [
    "### Predicciones\n",
    "\n",
    "Una vez entrenado el modelo, se predicen los datos de test (5 años a futuro)."
   ]
  },
  {
   "cell_type": "code",
   "execution_count": 24,
   "id": "f09f9082",
   "metadata": {},
   "outputs": [
    {
     "data": {
      "text/plain": [
       "2016-01-01    224.70\n",
       "2017-01-01    232.48\n",
       "2018-01-01    231.63\n",
       "2019-01-01    227.55\n",
       "2020-01-01    229.06\n",
       "2021-01-01    232.68\n",
       "2022-01-01    232.16\n",
       "Freq: AS-JAN, Name: pred, dtype: float64"
      ]
     },
     "execution_count": 24,
     "metadata": {},
     "output_type": "execute_result"
    }
   ],
   "source": [
    "steps = 7\n",
    "predicciones = forecaster.predict(steps=steps)\n",
    "predicciones.head(7)"
   ]
  },
  {
   "cell_type": "code",
   "execution_count": 25,
   "id": "5e846c71",
   "metadata": {},
   "outputs": [
    {
     "data": {
      "image/png": "[encoded data removed]",
      "text/plain": [
       "<Figure size 720x432 with 1 Axes>"
      ]
     },
     "metadata": {
      "needs_background": "light"
     },
     "output_type": "display_data"
    }
   ],
   "source": [
    "# Gráfico\n",
    "fig, ax = plt.subplots(figsize=(10, 6))\n",
    "datos_train.plot(ax=ax, label='train')\n",
    "datos_test.plot(ax=ax, label='test')\n",
    "predicciones.plot(ax=ax, label='predicciones')\n",
    "ax.legend();"
   ]
  },
  {
   "cell_type": "markdown",
   "id": "87e2eb62",
   "metadata": {},
   "source": [
    "### Error de las predicciones en el conjunto de test\n",
    "\n",
    "Se cuantifica el error que comete el modelo en sus predicciones. En este caso, se emplea como métrica el mean squared error (mse)."
   ]
  },
  {
   "cell_type": "code",
   "execution_count": 26,
   "id": "b519ed48",
   "metadata": {},
   "outputs": [
    {
     "name": "stdout",
     "output_type": "stream",
     "text": [
      "Error de test (mse): 1210.8102\n"
     ]
    }
   ],
   "source": [
    "# Error test\n",
    "\n",
    "error_mse = mean_squared_error(\n",
    "                y_true = datos_test,\n",
    "                y_pred = predicciones\n",
    "            )\n",
    "\n",
    "print(f\"Error de test (mse): {error_mse}\")"
   ]
  },
  {
   "cell_type": "markdown",
   "id": "b79906e4",
   "metadata": {},
   "source": [
    "### Ajuste de hiperparámetros (tuning)\n",
    "\n",
    "El ForecasterAutoreg entrenado ha utilizado una ventana temporal de 6 lags y un modelo Random Forest con los hiperparámetros por defecto. Sin embargo, no hay ninguna razón por la que estos valores sean los más adecuados. Para identificar la mejor combinación de lags e hiperparámetros, la librería Skforecast dispone de la función grid_search_forecaster con la que comparar los resultados obtenidos con cada configuración del modelo."
   ]
  },
  {
   "cell_type": "code",
   "execution_count": 27,
   "id": "2bf4c609",
   "metadata": {},
   "outputs": [
    {
     "name": "stdout",
     "output_type": "stream",
     "text": [
      "Number of models compared: 12.\n"
     ]
    },
    {
     "name": "stderr",
     "output_type": "stream",
     "text": [
      "loop lags_grid:   0%|                                               | 0/2 [00:00<?, ?it/s]\n",
      "loop param_grid:   0%|                                              | 0/6 [00:00<?, ?it/s]\u001b[A\n",
      "loop param_grid:  17%|██████▎                               | 1/6 [00:00<00:00,  6.04it/s]\u001b[A\n",
      "loop param_grid:  33%|████████████▋                         | 2/6 [00:00<00:02,  1.97it/s]\u001b[A\n",
      "loop param_grid:  50%|███████████████████                   | 3/6 [00:01<00:01,  2.82it/s]\u001b[A\n",
      "loop param_grid:  67%|█████████████████████████▎            | 4/6 [00:01<00:01,  1.93it/s]\u001b[A\n",
      "loop param_grid:  83%|███████████████████████████████▋      | 5/6 [00:02<00:00,  2.60it/s]\u001b[A\n",
      "loop param_grid: 100%|██████████████████████████████████████| 6/6 [00:02<00:00,  1.90it/s]\u001b[A\n",
      "loop lags_grid:  50%|███████████████████▌                   | 1/2 [00:02<00:02,  2.82s/it]\u001b[A\n",
      "loop param_grid:   0%|                                              | 0/6 [00:00<?, ?it/s]\u001b[A\n",
      "loop param_grid:  17%|██████▎                               | 1/6 [00:00<00:00,  6.11it/s]\u001b[A\n",
      "loop param_grid:  33%|████████████▋                         | 2/6 [00:00<00:02,  1.93it/s]\u001b[A\n",
      "loop param_grid:  50%|███████████████████                   | 3/6 [00:01<00:01,  2.81it/s]\u001b[A\n",
      "loop param_grid:  67%|█████████████████████████▎            | 4/6 [00:01<00:00,  2.01it/s]\u001b[A\n",
      "loop param_grid:  83%|███████████████████████████████▋      | 5/6 [00:01<00:00,  2.66it/s]\u001b[A\n",
      "loop param_grid: 100%|██████████████████████████████████████| 6/6 [00:02<00:00,  1.95it/s]\u001b[A\n",
      "loop lags_grid: 100%|███████████████████████████████████████| 2/2 [00:05<00:00,  2.79s/it]\u001b[A\n"
     ]
    },
    {
     "name": "stdout",
     "output_type": "stream",
     "text": [
      "`Forecaster` refitted using the best-found lags and parameters, and the whole data set: \n",
      "  Lags: [1 2 3 4 5] \n",
      "  Parameters: {'max_depth': 3, 'n_estimators': 500}\n",
      "  Backtesting metric: 4.820324798185988\n",
      "\n"
     ]
    }
   ],
   "source": [
    "# Grid search de hiperparámetros\n",
    "\n",
    "steps = 7\n",
    "forecaster = ForecasterAutoreg(\n",
    "                regressor = RandomForestRegressor(random_state=123),\n",
    "                lags      = 7 # Este valor será remplazado en el grid search\n",
    "             )\n",
    "\n",
    "# Lags utilizados como predictores\n",
    "lags_grid = [5,10]\n",
    "\n",
    "# Hiperparámetros del regresor\n",
    "param_grid = {'n_estimators': [100, 500],\n",
    "              'max_depth': [3, 5, 7]}\n",
    "\n",
    "resultados_grid = grid_search_forecaster(\n",
    "                        forecaster         = forecaster,\n",
    "                        y                  = datos_train,\n",
    "                        param_grid         = param_grid,\n",
    "                        lags_grid          = lags_grid,\n",
    "                        steps              = steps,\n",
    "                        refit              = True,\n",
    "                        metric             = 'mean_squared_error',\n",
    "                        initial_train_size = 15,\n",
    "                        fixed_train_size   = False,\n",
    "                        return_best        = True,\n",
    "                        verbose            = False\n",
    "                  )"
   ]
  },
  {
   "cell_type": "code",
   "execution_count": 28,
   "id": "0d858489",
   "metadata": {},
   "outputs": [
    {
     "data": {
      "text/html": [
       "<div>\n",
       "<style scoped>\n",
       "    .dataframe tbody tr th:only-of-type {\n",
       "        vertical-align: middle;\n",
       "    }\n",
       "\n",
       "    .dataframe tbody tr th {\n",
       "        vertical-align: top;\n",
       "    }\n",
       "\n",
       "    .dataframe thead th {\n",
       "        text-align: right;\n",
       "    }\n",
       "</style>\n",
       "<table border=\"1\" class=\"dataframe\">\n",
       "  <thead>\n",
       "    <tr style=\"text-align: right;\">\n",
       "      <th></th>\n",
       "      <th>lags</th>\n",
       "      <th>params</th>\n",
       "      <th>mean_squared_error</th>\n",
       "      <th>max_depth</th>\n",
       "      <th>n_estimators</th>\n",
       "    </tr>\n",
       "  </thead>\n",
       "  <tbody>\n",
       "    <tr>\n",
       "      <th>1</th>\n",
       "      <td>[1, 2, 3, 4, 5]</td>\n",
       "      <td>{'max_depth': 3, 'n_estimators': 500}</td>\n",
       "      <td>4.820325</td>\n",
       "      <td>3</td>\n",
       "      <td>500</td>\n",
       "    </tr>\n",
       "    <tr>\n",
       "      <th>6</th>\n",
       "      <td>[1, 2, 3, 4, 5, 6, 7, 8, 9, 10]</td>\n",
       "      <td>{'max_depth': 3, 'n_estimators': 100}</td>\n",
       "      <td>4.972900</td>\n",
       "      <td>3</td>\n",
       "      <td>100</td>\n",
       "    </tr>\n",
       "    <tr>\n",
       "      <th>8</th>\n",
       "      <td>[1, 2, 3, 4, 5, 6, 7, 8, 9, 10]</td>\n",
       "      <td>{'max_depth': 5, 'n_estimators': 100}</td>\n",
       "      <td>4.972900</td>\n",
       "      <td>5</td>\n",
       "      <td>100</td>\n",
       "    </tr>\n",
       "    <tr>\n",
       "      <th>10</th>\n",
       "      <td>[1, 2, 3, 4, 5, 6, 7, 8, 9, 10]</td>\n",
       "      <td>{'max_depth': 7, 'n_estimators': 100}</td>\n",
       "      <td>4.972900</td>\n",
       "      <td>7</td>\n",
       "      <td>100</td>\n",
       "    </tr>\n",
       "    <tr>\n",
       "      <th>0</th>\n",
       "      <td>[1, 2, 3, 4, 5]</td>\n",
       "      <td>{'max_depth': 3, 'n_estimators': 100}</td>\n",
       "      <td>5.922733</td>\n",
       "      <td>3</td>\n",
       "      <td>100</td>\n",
       "    </tr>\n",
       "    <tr>\n",
       "      <th>3</th>\n",
       "      <td>[1, 2, 3, 4, 5]</td>\n",
       "      <td>{'max_depth': 5, 'n_estimators': 500}</td>\n",
       "      <td>6.390784</td>\n",
       "      <td>5</td>\n",
       "      <td>500</td>\n",
       "    </tr>\n",
       "    <tr>\n",
       "      <th>5</th>\n",
       "      <td>[1, 2, 3, 4, 5]</td>\n",
       "      <td>{'max_depth': 7, 'n_estimators': 500}</td>\n",
       "      <td>6.390784</td>\n",
       "      <td>7</td>\n",
       "      <td>500</td>\n",
       "    </tr>\n",
       "    <tr>\n",
       "      <th>2</th>\n",
       "      <td>[1, 2, 3, 4, 5]</td>\n",
       "      <td>{'max_depth': 5, 'n_estimators': 100}</td>\n",
       "      <td>6.708100</td>\n",
       "      <td>5</td>\n",
       "      <td>100</td>\n",
       "    </tr>\n",
       "    <tr>\n",
       "      <th>4</th>\n",
       "      <td>[1, 2, 3, 4, 5]</td>\n",
       "      <td>{'max_depth': 7, 'n_estimators': 100}</td>\n",
       "      <td>6.708100</td>\n",
       "      <td>7</td>\n",
       "      <td>100</td>\n",
       "    </tr>\n",
       "    <tr>\n",
       "      <th>7</th>\n",
       "      <td>[1, 2, 3, 4, 5, 6, 7, 8, 9, 10]</td>\n",
       "      <td>{'max_depth': 3, 'n_estimators': 500}</td>\n",
       "      <td>10.732176</td>\n",
       "      <td>3</td>\n",
       "      <td>500</td>\n",
       "    </tr>\n",
       "    <tr>\n",
       "      <th>9</th>\n",
       "      <td>[1, 2, 3, 4, 5, 6, 7, 8, 9, 10]</td>\n",
       "      <td>{'max_depth': 5, 'n_estimators': 500}</td>\n",
       "      <td>10.732176</td>\n",
       "      <td>5</td>\n",
       "      <td>500</td>\n",
       "    </tr>\n",
       "    <tr>\n",
       "      <th>11</th>\n",
       "      <td>[1, 2, 3, 4, 5, 6, 7, 8, 9, 10]</td>\n",
       "      <td>{'max_depth': 7, 'n_estimators': 500}</td>\n",
       "      <td>10.732176</td>\n",
       "      <td>7</td>\n",
       "      <td>500</td>\n",
       "    </tr>\n",
       "  </tbody>\n",
       "</table>\n",
       "</div>"
      ],
      "text/plain": [
       "                               lags                                 params  \\\n",
       "1                   [1, 2, 3, 4, 5]  {'max_depth': 3, 'n_estimators': 500}   \n",
       "6   [1, 2, 3, 4, 5, 6, 7, 8, 9, 10]  {'max_depth': 3, 'n_estimators': 100}   \n",
       "8   [1, 2, 3, 4, 5, 6, 7, 8, 9, 10]  {'max_depth': 5, 'n_estimators': 100}   \n",
       "10  [1, 2, 3, 4, 5, 6, 7, 8, 9, 10]  {'max_depth': 7, 'n_estimators': 100}   \n",
       "0                   [1, 2, 3, 4, 5]  {'max_depth': 3, 'n_estimators': 100}   \n",
       "3                   [1, 2, 3, 4, 5]  {'max_depth': 5, 'n_estimators': 500}   \n",
       "5                   [1, 2, 3, 4, 5]  {'max_depth': 7, 'n_estimators': 500}   \n",
       "2                   [1, 2, 3, 4, 5]  {'max_depth': 5, 'n_estimators': 100}   \n",
       "4                   [1, 2, 3, 4, 5]  {'max_depth': 7, 'n_estimators': 100}   \n",
       "7   [1, 2, 3, 4, 5, 6, 7, 8, 9, 10]  {'max_depth': 3, 'n_estimators': 500}   \n",
       "9   [1, 2, 3, 4, 5, 6, 7, 8, 9, 10]  {'max_depth': 5, 'n_estimators': 500}   \n",
       "11  [1, 2, 3, 4, 5, 6, 7, 8, 9, 10]  {'max_depth': 7, 'n_estimators': 500}   \n",
       "\n",
       "    mean_squared_error  max_depth  n_estimators  \n",
       "1             4.820325          3           500  \n",
       "6             4.972900          3           100  \n",
       "8             4.972900          5           100  \n",
       "10            4.972900          7           100  \n",
       "0             5.922733          3           100  \n",
       "3             6.390784          5           500  \n",
       "5             6.390784          7           500  \n",
       "2             6.708100          5           100  \n",
       "4             6.708100          7           100  \n",
       "7            10.732176          3           500  \n",
       "9            10.732176          5           500  \n",
       "11           10.732176          7           500  "
      ]
     },
     "execution_count": 28,
     "metadata": {},
     "output_type": "execute_result"
    }
   ],
   "source": [
    "# Resultados Grid Search\n",
    "\n",
    "resultados_grid"
   ]
  },
  {
   "cell_type": "markdown",
   "id": "a089cf30",
   "metadata": {},
   "source": [
    "Los mejores resultados se obtienen si se utiliza una ventana temporal de 5 lags y una configuración de Random Forest {'max_depth': 3, 'n_estimators': 500}."
   ]
  },
  {
   "cell_type": "markdown",
   "id": "b91422f3",
   "metadata": {},
   "source": [
    "### Modelo final\n",
    "\n",
    "Finalmente, se entrena de nuevo un ForecasterAutoreg con la configuración óptima encontrada mediante validación. Este paso no es necesario si se indica return_best = True en la función grid_search_forecaster."
   ]
  },
  {
   "cell_type": "code",
   "execution_count": 29,
   "id": "056fe98b",
   "metadata": {},
   "outputs": [],
   "source": [
    "# Crear y entrenar forecaster con mejores hiperparámetros\n",
    "\n",
    "regressor = RandomForestRegressor(max_depth=3, n_estimators=500, random_state=123)\n",
    "forecaster = ForecasterAutoreg(\n",
    "                regressor = regressor,\n",
    "                lags      = 5\n",
    "             )\n",
    "\n",
    "forecaster.fit(y=datos_train)"
   ]
  },
  {
   "cell_type": "code",
   "execution_count": 30,
   "id": "9592c584",
   "metadata": {},
   "outputs": [],
   "source": [
    "# Predicciones\n",
    "predicciones = forecaster.predict(steps=steps)"
   ]
  },
  {
   "cell_type": "code",
   "execution_count": 31,
   "id": "6845e75e",
   "metadata": {},
   "outputs": [
    {
     "data": {
      "image/png": "[encoded data removed]",
      "text/plain": [
       "<Figure size 720x432 with 1 Axes>"
      ]
     },
     "metadata": {
      "needs_background": "light"
     },
     "output_type": "display_data"
    }
   ],
   "source": [
    "# Gráfico\n",
    "fig, ax = plt.subplots(figsize=(10, 6))\n",
    "datos_train.plot(ax=ax, label='train')\n",
    "datos_test.plot(ax=ax, label='test')\n",
    "predicciones.plot(ax=ax, label='predicciones')\n",
    "ax.legend();"
   ]
  },
  {
   "cell_type": "markdown",
   "id": "13dd830b",
   "metadata": {},
   "source": [
    "### Error del Test"
   ]
  },
  {
   "cell_type": "code",
   "execution_count": 32,
   "id": "f186f120",
   "metadata": {},
   "outputs": [
    {
     "name": "stdout",
     "output_type": "stream",
     "text": [
      "Error de test (mse) 1245.1990553773107\n"
     ]
    }
   ],
   "source": [
    "error_mse = mean_squared_error(\n",
    "                y_true = datos_test,\n",
    "                y_pred = predicciones\n",
    "            )\n",
    "\n",
    "print(f\"Error de test (mse) {error_mse}\")"
   ]
  }
 ],
 "metadata": {
  "kernelspec": {
   "display_name": "Python 3 (ipykernel)",
   "language": "python",
   "name": "python3"
  },
  "language_info": {
   "codemirror_mode": {
    "name": "ipython",
    "version": 3
   },
   "file_extension": ".py",
   "mimetype": "text/x-python",
   "name": "python",
   "nbconvert_exporter": "python",
   "pygments_lexer": "ipython3",
   "version": "3.10.5"
  }
 },
 "nbformat": 4,
 "nbformat_minor": 5
}
